{
 "cells": [
  {
   "cell_type": "markdown",
   "id": "3ec54222",
   "metadata": {},
   "source": [
    "# I. Load libraries and dataset"
   ]
  },
  {
   "cell_type": "code",
   "execution_count": 3,
   "id": "645234a5",
   "metadata": {},
   "outputs": [],
   "source": [
    "import pandas as pd\n",
    "import sys\n",
    "import os\n",
    "import matplotlib.pyplot as plt\n",
    "import seaborn as sns\n",
    "import warnings\n",
    "from sklearn.model_selection import cross_val_score, StratifiedKFold\n",
    "from sklearn.metrics import f1_score, recall_score, precision_score, confusion_matrix, make_scorer\n",
    "import optuna\n",
    "from sklearn.ensemble import RandomForestClassifier\n",
    "from sklearn.metrics import classification_report\n",
    "\n",
    "\n",
    "warnings.filterwarnings('ignore')\n",
    "sys.path.append(os.path.abspath(\"../Sources\"))\n",
    "from preprocessing import preprocess_pipeline"
   ]
  },
  {
   "cell_type": "code",
   "execution_count": 4,
   "id": "19c27f8a",
   "metadata": {},
   "outputs": [],
   "source": [
    "train = pd.read_csv('..\\Datasets\\Copy of churn-bigml-80.csv')\n",
    "test = pd.read_csv('..\\Datasets\\Copy of churn-bigml-20.csv')"
   ]
  },
  {
   "cell_type": "markdown",
   "id": "4d7d3660",
   "metadata": {},
   "source": [
    "# II. Model"
   ]
  },
  {
   "cell_type": "markdown",
   "id": "65c2ef96",
   "metadata": {},
   "source": [
    "## 1. Train"
   ]
  },
  {
   "cell_type": "code",
   "execution_count": 5,
   "id": "c9b5fb30",
   "metadata": {},
   "outputs": [],
   "source": [
    "X_train, y_train, X_test, y_test = preprocess_pipeline(train, test, model='rf')"
   ]
  },
  {
   "cell_type": "code",
   "execution_count": 6,
   "id": "1c7486ea",
   "metadata": {},
   "outputs": [
    {
     "name": "stdout",
     "output_type": "stream",
     "text": [
      "F1 scores on each fold: [0.95060082 0.95716017 0.95495196 0.96376489 0.95716017]\n",
      "Mean F1 score: 0.9567276010016886\n"
     ]
    }
   ],
   "source": [
    "f1_scorer = make_scorer(f1_score, average='macro')\n",
    "cv = StratifiedKFold(n_splits=5, shuffle=True, random_state=42)\n",
    "\n",
    "model = RandomForestClassifier(random_state=42)\n",
    "scores = cross_val_score(model, X_train, y_train, cv=cv, scoring=f1_scorer)\n",
    "\n",
    "print(\"F1 scores on each fold:\", scores)\n",
    "print(\"Mean F1 score:\", scores.mean())"
   ]
  },
  {
   "cell_type": "markdown",
   "id": "b0178b93",
   "metadata": {},
   "source": [
    "## 2. Optimizing"
   ]
  },
  {
   "cell_type": "code",
   "execution_count": 7,
   "id": "1334f470",
   "metadata": {},
   "outputs": [
    {
     "name": "stderr",
     "output_type": "stream",
     "text": [
      "[I 2025-05-19 11:02:44,984] A new study created in memory with name: no-name-5d68b910-a77f-4380-817e-ea651ecfca30\n",
      "[I 2025-05-19 11:02:49,210] Trial 0 finished with value: 0.9136201159094522 and parameters: {'n_estimators': 67, 'max_depth': 23, 'min_samples_split': 2, 'min_samples_leaf': 20, 'max_features': 'sqrt', 'bootstrap': False}. Best is trial 0 with value: 0.9136201159094522.\n",
      "[I 2025-05-19 11:02:58,109] Trial 1 finished with value: 0.9009435391975028 and parameters: {'n_estimators': 477, 'max_depth': 16, 'min_samples_split': 12, 'min_samples_leaf': 17, 'max_features': 'sqrt', 'bootstrap': True}. Best is trial 0 with value: 0.9136201159094522.\n",
      "[I 2025-05-19 11:03:02,301] Trial 2 finished with value: 0.9169445807902074 and parameters: {'n_estimators': 107, 'max_depth': 17, 'min_samples_split': 14, 'min_samples_leaf': 18, 'max_features': 'sqrt', 'bootstrap': False}. Best is trial 2 with value: 0.9169445807902074.\n",
      "[I 2025-05-19 11:03:10,510] Trial 3 finished with value: 0.9078261683624035 and parameters: {'n_estimators': 357, 'max_depth': 16, 'min_samples_split': 2, 'min_samples_leaf': 20, 'max_features': 'log2', 'bootstrap': False}. Best is trial 2 with value: 0.9169445807902074.\n",
      "[I 2025-05-19 11:03:16,563] Trial 4 finished with value: 0.9324481898090294 and parameters: {'n_estimators': 350, 'max_depth': 23, 'min_samples_split': 5, 'min_samples_leaf': 6, 'max_features': 'sqrt', 'bootstrap': True}. Best is trial 4 with value: 0.9324481898090294.\n",
      "[I 2025-05-19 11:03:24,726] Trial 5 finished with value: 0.9514353365278106 and parameters: {'n_estimators': 294, 'max_depth': 21, 'min_samples_split': 10, 'min_samples_leaf': 3, 'max_features': 'sqrt', 'bootstrap': False}. Best is trial 5 with value: 0.9514353365278106.\n",
      "[I 2025-05-19 11:03:28,140] Trial 6 finished with value: 0.9271455167081124 and parameters: {'n_estimators': 161, 'max_depth': 27, 'min_samples_split': 13, 'min_samples_leaf': 7, 'max_features': 'sqrt', 'bootstrap': True}. Best is trial 5 with value: 0.9514353365278106.\n",
      "[I 2025-05-19 11:03:37,734] Trial 7 finished with value: 0.9060605966506474 and parameters: {'n_estimators': 331, 'max_depth': 28, 'min_samples_split': 10, 'min_samples_leaf': 14, 'max_features': 'sqrt', 'bootstrap': True}. Best is trial 5 with value: 0.9514353365278106.\n",
      "[I 2025-05-19 11:03:40,676] Trial 8 finished with value: 0.920522444375813 and parameters: {'n_estimators': 111, 'max_depth': 21, 'min_samples_split': 4, 'min_samples_leaf': 7, 'max_features': 'log2', 'bootstrap': True}. Best is trial 5 with value: 0.9514353365278106.\n",
      "[I 2025-05-19 11:03:44,440] Trial 9 finished with value: 0.902973076236157 and parameters: {'n_estimators': 137, 'max_depth': 24, 'min_samples_split': 15, 'min_samples_leaf': 16, 'max_features': 'sqrt', 'bootstrap': True}. Best is trial 5 with value: 0.9514353365278106.\n",
      "[I 2025-05-19 11:03:49,036] Trial 10 finished with value: 0.8561141677538068 and parameters: {'n_estimators': 211, 'max_depth': 5, 'min_samples_split': 19, 'min_samples_leaf': 1, 'max_features': 'log2', 'bootstrap': False}. Best is trial 5 with value: 0.9514353365278106.\n",
      "[I 2025-05-19 11:04:06,376] Trial 11 finished with value: 0.9468117819186235 and parameters: {'n_estimators': 398, 'max_depth': 12, 'min_samples_split': 7, 'min_samples_leaf': 1, 'max_features': 'sqrt', 'bootstrap': False}. Best is trial 5 with value: 0.9514353365278106.\n",
      "[I 2025-05-19 11:04:25,513] Trial 12 finished with value: 0.9289106501530204 and parameters: {'n_estimators': 475, 'max_depth': 10, 'min_samples_split': 8, 'min_samples_leaf': 1, 'max_features': 'sqrt', 'bootstrap': False}. Best is trial 5 with value: 0.9514353365278106.\n",
      "[I 2025-05-19 11:04:38,314] Trial 13 finished with value: 0.9397549478702422 and parameters: {'n_estimators': 256, 'max_depth': 12, 'min_samples_split': 7, 'min_samples_leaf': 4, 'max_features': 'sqrt', 'bootstrap': False}. Best is trial 5 with value: 0.9514353365278106.\n",
      "[I 2025-05-19 11:04:49,809] Trial 14 finished with value: 0.9165316525919946 and parameters: {'n_estimators': 423, 'max_depth': 11, 'min_samples_split': 9, 'min_samples_leaf': 11, 'max_features': 'log2', 'bootstrap': False}. Best is trial 5 with value: 0.9514353365278106.\n",
      "[I 2025-05-19 11:05:01,331] Trial 15 finished with value: 0.893507781819913 and parameters: {'n_estimators': 299, 'max_depth': 7, 'min_samples_split': 6, 'min_samples_leaf': 3, 'max_features': 'sqrt', 'bootstrap': False}. Best is trial 5 with value: 0.9514353365278106.\n",
      "[I 2025-05-19 11:05:20,539] Trial 16 finished with value: 0.9344352126224104 and parameters: {'n_estimators': 401, 'max_depth': 20, 'min_samples_split': 16, 'min_samples_leaf': 11, 'max_features': 'sqrt', 'bootstrap': False}. Best is trial 5 with value: 0.9514353365278106.\n",
      "[I 2025-05-19 11:05:31,199] Trial 17 finished with value: 0.9417351162133458 and parameters: {'n_estimators': 252, 'max_depth': 14, 'min_samples_split': 11, 'min_samples_leaf': 5, 'max_features': 'sqrt', 'bootstrap': False}. Best is trial 5 with value: 0.9514353365278106.\n",
      "[I 2025-05-19 11:05:52,213] Trial 18 finished with value: 0.9362056128255978 and parameters: {'n_estimators': 435, 'max_depth': 20, 'min_samples_split': 18, 'min_samples_leaf': 9, 'max_features': 'log2', 'bootstrap': False}. Best is trial 5 with value: 0.9514353365278106.\n",
      "[I 2025-05-19 11:06:06,819] Trial 19 finished with value: 0.9053759195027921 and parameters: {'n_estimators': 389, 'max_depth': 8, 'min_samples_split': 9, 'min_samples_leaf': 3, 'max_features': 'sqrt', 'bootstrap': False}. Best is trial 5 with value: 0.9514353365278106.\n",
      "[I 2025-05-19 11:06:20,066] Trial 20 finished with value: 0.9516651199438911 and parameters: {'n_estimators': 295, 'max_depth': 13, 'min_samples_split': 4, 'min_samples_leaf': 1, 'max_features': 'sqrt', 'bootstrap': False}. Best is trial 20 with value: 0.9516651199438911.\n",
      "[I 2025-05-19 11:06:33,521] Trial 21 finished with value: 0.956286791366298 and parameters: {'n_estimators': 308, 'max_depth': 14, 'min_samples_split': 4, 'min_samples_leaf': 1, 'max_features': 'sqrt', 'bootstrap': False}. Best is trial 21 with value: 0.956286791366298.\n",
      "[I 2025-05-19 11:06:42,037] Trial 22 finished with value: 0.9516585423784456 and parameters: {'n_estimators': 214, 'max_depth': 14, 'min_samples_split': 4, 'min_samples_leaf': 3, 'max_features': 'sqrt', 'bootstrap': False}. Best is trial 21 with value: 0.956286791366298.\n",
      "[I 2025-05-19 11:06:52,005] Trial 23 finished with value: 0.9562955299257186 and parameters: {'n_estimators': 214, 'max_depth': 14, 'min_samples_split': 3, 'min_samples_leaf': 1, 'max_features': 'sqrt', 'bootstrap': False}. Best is trial 23 with value: 0.9562955299257186.\n",
      "[I 2025-05-19 11:07:02,271] Trial 24 finished with value: 0.9565143721269601 and parameters: {'n_estimators': 215, 'max_depth': 14, 'min_samples_split': 3, 'min_samples_leaf': 1, 'max_features': 'sqrt', 'bootstrap': False}. Best is trial 24 with value: 0.9565143721269601.\n",
      "[I 2025-05-19 11:07:09,008] Trial 25 finished with value: 0.9098492011451315 and parameters: {'n_estimators': 203, 'max_depth': 9, 'min_samples_split': 2, 'min_samples_leaf': 9, 'max_features': 'sqrt', 'bootstrap': False}. Best is trial 24 with value: 0.9565143721269601.\n",
      "[I 2025-05-19 11:07:15,085] Trial 26 finished with value: 0.9463685588632968 and parameters: {'n_estimators': 188, 'max_depth': 18, 'min_samples_split': 3, 'min_samples_leaf': 5, 'max_features': 'log2', 'bootstrap': False}. Best is trial 24 with value: 0.9565143721269601.\n",
      "[I 2025-05-19 11:07:24,313] Trial 27 finished with value: 0.9269219044900927 and parameters: {'n_estimators': 250, 'max_depth': 15, 'min_samples_split': 6, 'min_samples_leaf': 13, 'max_features': 'sqrt', 'bootstrap': False}. Best is trial 24 with value: 0.9565143721269601.\n",
      "[I 2025-05-19 11:07:33,820] Trial 28 finished with value: 0.9509995412392243 and parameters: {'n_estimators': 231, 'max_depth': 18, 'min_samples_split': 4, 'min_samples_leaf': 4, 'max_features': 'sqrt', 'bootstrap': False}. Best is trial 24 with value: 0.9565143721269601.\n",
      "[I 2025-05-19 11:07:36,631] Trial 29 finished with value: 0.9289581213579898 and parameters: {'n_estimators': 77, 'max_depth': 10, 'min_samples_split': 2, 'min_samples_leaf': 2, 'max_features': 'sqrt', 'bootstrap': False}. Best is trial 24 with value: 0.9565143721269601.\n",
      "[I 2025-05-19 11:07:42,950] Trial 30 finished with value: 0.9326840843451661 and parameters: {'n_estimators': 174, 'max_depth': 13, 'min_samples_split': 6, 'min_samples_leaf': 8, 'max_features': 'sqrt', 'bootstrap': False}. Best is trial 24 with value: 0.9565143721269601.\n",
      "[I 2025-05-19 11:07:55,255] Trial 31 finished with value: 0.9576132800211881 and parameters: {'n_estimators': 309, 'max_depth': 14, 'min_samples_split': 3, 'min_samples_leaf': 1, 'max_features': 'sqrt', 'bootstrap': False}. Best is trial 31 with value: 0.9576132800211881.\n",
      "[I 2025-05-19 11:08:08,053] Trial 32 finished with value: 0.9578240999393071 and parameters: {'n_estimators': 321, 'max_depth': 16, 'min_samples_split': 3, 'min_samples_leaf': 2, 'max_features': 'sqrt', 'bootstrap': False}. Best is trial 32 with value: 0.9578240999393071.\n",
      "[I 2025-05-19 11:08:19,025] Trial 33 finished with value: 0.9584846053945777 and parameters: {'n_estimators': 268, 'max_depth': 16, 'min_samples_split': 3, 'min_samples_leaf': 2, 'max_features': 'sqrt', 'bootstrap': False}. Best is trial 33 with value: 0.9584846053945777.\n",
      "[I 2025-05-19 11:08:31,993] Trial 34 finished with value: 0.9479107933860161 and parameters: {'n_estimators': 334, 'max_depth': 17, 'min_samples_split': 2, 'min_samples_leaf': 5, 'max_features': 'sqrt', 'bootstrap': False}. Best is trial 33 with value: 0.9584846053945777.\n",
      "[I 2025-05-19 11:08:39,634] Trial 35 finished with value: 0.9479220380022959 and parameters: {'n_estimators': 272, 'max_depth': 16, 'min_samples_split': 5, 'min_samples_leaf': 2, 'max_features': 'sqrt', 'bootstrap': True}. Best is trial 33 with value: 0.9584846053945777.\n",
      "[I 2025-05-19 11:08:52,841] Trial 36 finished with value: 0.9529793620257682 and parameters: {'n_estimators': 368, 'max_depth': 19, 'min_samples_split': 3, 'min_samples_leaf': 4, 'max_features': 'sqrt', 'bootstrap': False}. Best is trial 33 with value: 0.9584846053945777.\n",
      "[I 2025-05-19 11:09:03,951] Trial 37 finished with value: 0.9567262611057783 and parameters: {'n_estimators': 319, 'max_depth': 16, 'min_samples_split': 5, 'min_samples_leaf': 2, 'max_features': 'log2', 'bootstrap': False}. Best is trial 33 with value: 0.9584846053945777.\n",
      "[I 2025-05-19 11:09:11,049] Trial 38 finished with value: 0.9269487431690162 and parameters: {'n_estimators': 319, 'max_depth': 16, 'min_samples_split': 5, 'min_samples_leaf': 6, 'max_features': 'log2', 'bootstrap': True}. Best is trial 33 with value: 0.9584846053945777.\n",
      "[I 2025-05-19 11:09:23,601] Trial 39 finished with value: 0.9573874621295705 and parameters: {'n_estimators': 359, 'max_depth': 23, 'min_samples_split': 7, 'min_samples_leaf': 2, 'max_features': 'log2', 'bootstrap': False}. Best is trial 33 with value: 0.9584846053945777.\n",
      "[I 2025-05-19 11:09:31,572] Trial 40 finished with value: 0.9262928631642439 and parameters: {'n_estimators': 356, 'max_depth': 24, 'min_samples_split': 7, 'min_samples_leaf': 6, 'max_features': 'log2', 'bootstrap': True}. Best is trial 33 with value: 0.9584846053945777.\n",
      "[I 2025-05-19 11:09:40,910] Trial 41 finished with value: 0.9584869200563798 and parameters: {'n_estimators': 274, 'max_depth': 26, 'min_samples_split': 5, 'min_samples_leaf': 2, 'max_features': 'log2', 'bootstrap': False}. Best is trial 41 with value: 0.9584869200563798.\n",
      "[I 2025-05-19 11:09:50,157] Trial 42 finished with value: 0.9540878691816506 and parameters: {'n_estimators': 277, 'max_depth': 27, 'min_samples_split': 2, 'min_samples_leaf': 3, 'max_features': 'log2', 'bootstrap': False}. Best is trial 41 with value: 0.9584869200563798.\n",
      "[I 2025-05-19 11:09:59,868] Trial 43 finished with value: 0.910948975810874 and parameters: {'n_estimators': 343, 'max_depth': 29, 'min_samples_split': 6, 'min_samples_leaf': 19, 'max_features': 'log2', 'bootstrap': False}. Best is trial 41 with value: 0.9584869200563798.\n",
      "[I 2025-05-19 11:10:09,515] Trial 44 finished with value: 0.9576112196290796 and parameters: {'n_estimators': 277, 'max_depth': 23, 'min_samples_split': 3, 'min_samples_leaf': 2, 'max_features': 'log2', 'bootstrap': False}. Best is trial 41 with value: 0.9584869200563798.\n",
      "[I 2025-05-19 11:10:19,202] Trial 45 finished with value: 0.9527598580880644 and parameters: {'n_estimators': 285, 'max_depth': 25, 'min_samples_split': 3, 'min_samples_leaf': 4, 'max_features': 'log2', 'bootstrap': False}. Best is trial 41 with value: 0.9584869200563798.\n",
      "[I 2025-05-19 11:10:27,788] Trial 46 finished with value: 0.9595869917119717 and parameters: {'n_estimators': 241, 'max_depth': 26, 'min_samples_split': 5, 'min_samples_leaf': 2, 'max_features': 'log2', 'bootstrap': False}. Best is trial 46 with value: 0.9595869917119717.\n",
      "[I 2025-05-19 11:10:33,708] Trial 47 finished with value: 0.9437244159274822 and parameters: {'n_estimators': 243, 'max_depth': 25, 'min_samples_split': 5, 'min_samples_leaf': 3, 'max_features': 'log2', 'bootstrap': True}. Best is trial 46 with value: 0.9595869917119717.\n",
      "[I 2025-05-19 11:10:38,329] Trial 48 finished with value: 0.9189369517527595 and parameters: {'n_estimators': 154, 'max_depth': 21, 'min_samples_split': 13, 'min_samples_leaf': 16, 'max_features': 'log2', 'bootstrap': False}. Best is trial 46 with value: 0.9595869917119717.\n",
      "[I 2025-05-19 11:10:47,537] Trial 49 finished with value: 0.9439422987156334 and parameters: {'n_estimators': 263, 'max_depth': 29, 'min_samples_split': 8, 'min_samples_leaf': 6, 'max_features': 'log2', 'bootstrap': False}. Best is trial 46 with value: 0.9595869917119717.\n"
     ]
    },
    {
     "name": "stdout",
     "output_type": "stream",
     "text": [
      "Best trial:\n",
      "FrozenTrial(number=46, state=1, values=[0.9595869917119717], datetime_start=datetime.datetime(2025, 5, 19, 11, 10, 19, 203364), datetime_complete=datetime.datetime(2025, 5, 19, 11, 10, 27, 788963), params={'n_estimators': 241, 'max_depth': 26, 'min_samples_split': 5, 'min_samples_leaf': 2, 'max_features': 'log2', 'bootstrap': False}, user_attrs={}, system_attrs={}, intermediate_values={}, distributions={'n_estimators': IntDistribution(high=500, log=False, low=50, step=1), 'max_depth': IntDistribution(high=30, log=False, low=5, step=1), 'min_samples_split': IntDistribution(high=20, log=False, low=2, step=1), 'min_samples_leaf': IntDistribution(high=20, log=False, low=1, step=1), 'max_features': CategoricalDistribution(choices=('sqrt', 'log2')), 'bootstrap': CategoricalDistribution(choices=(True, False))}, trial_id=46, value=None)\n",
      "Best parameters: {'n_estimators': 241, 'max_depth': 26, 'min_samples_split': 5, 'min_samples_leaf': 2, 'max_features': 'log2', 'bootstrap': False}\n"
     ]
    }
   ],
   "source": [
    "def objective(trial):\n",
    "    params = {\n",
    "        'n_estimators': trial.suggest_int('n_estimators', 50, 500),\n",
    "        'max_depth': trial.suggest_int('max_depth', 5, 30),\n",
    "        'min_samples_split': trial.suggest_int('min_samples_split', 2, 20),\n",
    "        'min_samples_leaf': trial.suggest_int('min_samples_leaf', 1, 20),\n",
    "        'max_features': trial.suggest_categorical('max_features', ['sqrt', 'log2']),\n",
    "        'bootstrap': trial.suggest_categorical('bootstrap', [True, False]),\n",
    "        'random_state': 42\n",
    "    }\n",
    "\n",
    "    model = RandomForestClassifier(**params)\n",
    "    score = cross_val_score(model, X_train, y_train, scoring=f1_scorer, cv=cv, n_jobs=-1).mean()\n",
    "    return score\n",
    "\n",
    "study = optuna.create_study(direction='maximize')\n",
    "study.optimize(objective, n_trials=50)\n",
    "\n",
    "print(\"Best trial:\")\n",
    "print(study.best_trial)\n",
    "print(\"Best parameters:\", study.best_params)\n"
   ]
  },
  {
   "cell_type": "markdown",
   "id": "35acb627",
   "metadata": {},
   "source": [
    "## 3. Retrain and test"
   ]
  },
  {
   "cell_type": "code",
   "execution_count": 8,
   "id": "3f0bea20",
   "metadata": {},
   "outputs": [
    {
     "name": "stdout",
     "output_type": "stream",
     "text": [
      "Classification Report:\n",
      "\n",
      "              precision    recall  f1-score   support\n",
      "\n",
      "           0     0.9659    0.9913    0.9784       572\n",
      "           1     0.9375    0.7895    0.8571        95\n",
      "\n",
      "    accuracy                         0.9625       667\n",
      "   macro avg     0.9517    0.8904    0.9178       667\n",
      "weighted avg     0.9619    0.9625    0.9612       667\n",
      "\n"
     ]
    },
    {
     "data": {
      "text/plain": [
       "<Axes: >"
      ]
     },
     "execution_count": 8,
     "metadata": {},
     "output_type": "execute_result"
    },
    {
     "data": {
      "image/png": "[encoded data removed]",
      "text/plain": [
       "<Figure size 640x480 with 2 Axes>"
      ]
     },
     "metadata": {},
     "output_type": "display_data"
    }
   ],
   "source": [
    "best_model = RandomForestClassifier(**study.best_params)\n",
    "best_model.fit(X_train, y_train)\n",
    "\n",
    "y_pred = best_model.predict(X_test)\n",
    "\n",
    "print(\"Classification Report:\\n\")\n",
    "print(classification_report(y_test, y_pred, digits=4))\n",
    "sns.heatmap(confusion_matrix(y_test, y_pred), annot=True, fmt='d', cmap='Blues')"
   ]
  },
  {
   "cell_type": "markdown",
   "id": "90b4c281",
   "metadata": {},
   "source": [
    "## 4. Feature importance "
   ]
  },
  {
   "cell_type": "code",
   "execution_count": 9,
   "id": "6bf471ba",
   "metadata": {},
   "outputs": [
    {
     "name": "stdout",
     "output_type": "stream",
     "text": [
      "                   Feature  Importance\n",
      "29            Total charge    0.136406\n",
      "17  Customer service calls    0.094978\n",
      "7         Total day charge    0.057008\n",
      "5        Total day minutes    0.057007\n",
      "22           total_minutes    0.055253\n",
      "3          Voice mail plan    0.048538\n",
      "4    Number vmail messages    0.042831\n",
      "21  avg_intl_call_duration    0.041999\n",
      "1                Area code    0.027807\n",
      "30              State_freq    0.027184\n"
     ]
    }
   ],
   "source": [
    "importances = best_model.feature_importances_\n",
    "feature_names = X_train.columns\n",
    "\n",
    "importance_df = pd.DataFrame({\n",
    "    'Feature': feature_names,\n",
    "    'Importance': importances\n",
    "}).sort_values(by='Importance', ascending=False)\n",
    "\n",
    "print(importance_df.head(10))"
   ]
  },
  {
   "cell_type": "code",
   "execution_count": 10,
   "id": "a27cc622",
   "metadata": {},
   "outputs": [
    {
     "data": {
      "image/png": "[encoded data removed]",
      "text/plain": [
       "<Figure size 1000x600 with 1 Axes>"
      ]
     },
     "metadata": {},
     "output_type": "display_data"
    }
   ],
   "source": [
    "plt.figure(figsize=(10, 6))\n",
    "plt.barh(importance_df['Feature'][:5][::-1], importance_df['Importance'][:5][::-1])\n",
    "plt.xlabel(\"Importance\")\n",
    "plt.title(\"Top 5 Feature Importances - Random Forest\")\n",
    "plt.tight_layout()\n",
    "plt.show()"
   ]
  }
 ],
 "metadata": {
  "kernelspec": {
   "display_name": "Python 3",
   "language": "python",
   "name": "python3"
  },
  "language_info": {
   "codemirror_mode": {
    "name": "ipython",
    "version": 3
   },
   "file_extension": ".py",
   "mimetype": "text/x-python",
   "name": "python",
   "nbconvert_exporter": "python",
   "pygments_lexer": "ipython3",
   "version": "3.11.1"
  }
 },
 "nbformat": 4,
 "nbformat_minor": 5
}
