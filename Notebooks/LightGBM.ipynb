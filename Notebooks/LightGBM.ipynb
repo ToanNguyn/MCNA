{
 "cells": [
  {
   "cell_type": "markdown",
   "id": "79ad1325",
   "metadata": {},
   "source": [
    "# I. Load libraries and dataset"
   ]
  },
  {
   "cell_type": "code",
   "execution_count": 2,
   "id": "cbdc9406",
   "metadata": {},
   "outputs": [],
   "source": [
    "import pandas as pd\n",
    "import sys\n",
    "import os\n",
    "import matplotlib.pyplot as plt\n",
    "import seaborn as sns\n",
    "import warnings\n",
    "import lightgbm as lgb\n",
    "from sklearn.model_selection import cross_val_score, StratifiedKFold\n",
    "from sklearn.metrics import f1_score, recall_score, precision_score, confusion_matrix, make_scorer\n",
    "from sklearn.metrics import confusion_matrix\n",
    "import optuna\n",
    "from sklearn.metrics import classification_report\n",
    "\n",
    "\n",
    "warnings.filterwarnings('ignore')\n",
    "sys.path.append(os.path.abspath(\"../Sources\"))\n",
    "from preprocessing import preprocess_pipeline"
   ]
  },
  {
   "cell_type": "code",
   "execution_count": 3,
   "id": "c89b31a4",
   "metadata": {},
   "outputs": [],
   "source": [
    "train = pd.read_csv('..\\Datasets\\Copy of churn-bigml-80.csv')\n",
    "test = pd.read_csv('..\\Datasets\\Copy of churn-bigml-20.csv')"
   ]
  },
  {
   "cell_type": "markdown",
   "id": "5e7679a0",
   "metadata": {},
   "source": [
    "# II. Model"
   ]
  },
  {
   "cell_type": "markdown",
   "id": "e692a4c7",
   "metadata": {},
   "source": [
    "## 1. Train"
   ]
  },
  {
   "cell_type": "code",
   "execution_count": 4,
   "id": "827150f0",
   "metadata": {},
   "outputs": [],
   "source": [
    "X_train, y_train, X_test, y_test = preprocess_pipeline(train, test, model='lightgbm')"
   ]
  },
  {
   "cell_type": "code",
   "execution_count": 5,
   "id": "ee60f3dd",
   "metadata": {},
   "outputs": [
    {
     "name": "stdout",
     "output_type": "stream",
     "text": [
      "F1 scores on each fold: [0.96489861 0.97034494 0.96704815 0.96705165 0.9692482 ]\n",
      "Mean F1 score: 0.9677183106939136\n"
     ]
    }
   ],
   "source": [
    "f1_scorer = make_scorer(f1_score, average='macro') \n",
    "\n",
    "cv = StratifiedKFold(n_splits=5, shuffle=True, random_state=42)\n",
    "\n",
    "model = lgb.LGBMClassifier(random_state=42, verbosity=-1)\n",
    "\n",
    "scores = cross_val_score(model, X_train, y_train, cv=cv, scoring=f1_scorer)\n",
    "\n",
    "print(\"F1 scores on each fold:\", scores)\n",
    "print(\"Mean F1 score:\", scores.mean())"
   ]
  },
  {
   "cell_type": "markdown",
   "id": "b18efe5b",
   "metadata": {},
   "source": [
    "## 2. Optimizing"
   ]
  },
  {
   "cell_type": "code",
   "execution_count": 6,
   "id": "8c8210a9",
   "metadata": {},
   "outputs": [
    {
     "name": "stderr",
     "output_type": "stream",
     "text": [
      "[I 2025-05-19 11:03:23,318] A new study created in memory with name: no-name-c86fe6d3-79d3-4fa5-b49a-85a94d64e34f\n",
      "[I 2025-05-19 11:04:40,014] Trial 0 finished with value: 0.9729962231575456 and parameters: {'learning_rate': 0.16340604100016348, 'n_estimators': 400, 'max_depth': 12, 'num_leaves': 247, 'min_child_samples': 67, 'subsample': 0.5757881058416625, 'colsample_bytree': 0.5100558855247956}. Best is trial 0 with value: 0.9729962231575456.\n",
      "[I 2025-05-19 11:06:16,655] Trial 1 finished with value: 0.9708004475723883 and parameters: {'learning_rate': 0.17787623631233987, 'n_estimators': 549, 'max_depth': 13, 'num_leaves': 35, 'min_child_samples': 91, 'subsample': 0.5921849276006006, 'colsample_bytree': 0.6084291092770724}. Best is trial 0 with value: 0.9729962231575456.\n",
      "[I 2025-05-19 11:08:48,016] Trial 2 finished with value: 0.9740943114506502 and parameters: {'learning_rate': 0.14742450506890614, 'n_estimators': 759, 'max_depth': 15, 'num_leaves': 246, 'min_child_samples': 8, 'subsample': 0.5496864576884981, 'colsample_bytree': 0.5923385327519086}. Best is trial 2 with value: 0.9740943114506502.\n",
      "[I 2025-05-19 11:09:39,501] Trial 3 finished with value: 0.9304390925360094 and parameters: {'learning_rate': 0.004604025038344139, 'n_estimators': 555, 'max_depth': 15, 'num_leaves': 107, 'min_child_samples': 64, 'subsample': 0.8890794497161212, 'colsample_bytree': 0.8408043003109437}. Best is trial 2 with value: 0.9740943114506502.\n",
      "[I 2025-05-19 11:09:48,665] Trial 4 finished with value: 0.9628899333326407 and parameters: {'learning_rate': 0.07928659508893315, 'n_estimators': 127, 'max_depth': 15, 'num_leaves': 33, 'min_child_samples': 83, 'subsample': 0.6069499208744634, 'colsample_bytree': 0.8351369390917116}. Best is trial 2 with value: 0.9740943114506502.\n",
      "[I 2025-05-19 11:10:38,226] Trial 5 finished with value: 0.9688200288911695 and parameters: {'learning_rate': 0.03183830153481457, 'n_estimators': 383, 'max_depth': 13, 'num_leaves': 159, 'min_child_samples': 63, 'subsample': 0.6569700014445234, 'colsample_bytree': 0.8184849018664815}. Best is trial 2 with value: 0.9740943114506502.\n",
      "[I 2025-05-19 11:10:48,028] Trial 6 finished with value: 0.950539550812573 and parameters: {'learning_rate': 0.037103860294388814, 'n_estimators': 163, 'max_depth': 7, 'num_leaves': 20, 'min_child_samples': 22, 'subsample': 0.6531042217934667, 'colsample_bytree': 0.5648059425438888}. Best is trial 2 with value: 0.9740943114506502.\n",
      "[I 2025-05-19 11:10:54,982] Trial 7 finished with value: 0.9501058550950805 and parameters: {'learning_rate': 0.007824015201988829, 'n_estimators': 593, 'max_depth': 8, 'num_leaves': 248, 'min_child_samples': 10, 'subsample': 0.6810240555771909, 'colsample_bytree': 0.8936873588718857}. Best is trial 2 with value: 0.9740943114506502.\n",
      "[I 2025-05-19 11:10:57,516] Trial 8 finished with value: 0.8925650179275795 and parameters: {'learning_rate': 0.0010800898101972335, 'n_estimators': 477, 'max_depth': 14, 'num_leaves': 27, 'min_child_samples': 74, 'subsample': 0.8632137979624444, 'colsample_bytree': 0.7038510687422682}. Best is trial 2 with value: 0.9740943114506502.\n",
      "[I 2025-05-19 11:10:59,672] Trial 9 finished with value: 0.8834308861122169 and parameters: {'learning_rate': 0.0011668269793588314, 'n_estimators': 469, 'max_depth': 9, 'num_leaves': 163, 'min_child_samples': 99, 'subsample': 0.7815569262606119, 'colsample_bytree': 0.7682736881422072}. Best is trial 2 with value: 0.9740943114506502.\n",
      "[I 2025-05-19 11:11:01,003] Trial 10 finished with value: 0.9710204974546022 and parameters: {'learning_rate': 0.29499272258338605, 'n_estimators': 950, 'max_depth': 3, 'num_leaves': 212, 'min_child_samples': 38, 'subsample': 0.5015104627718567, 'colsample_bytree': 0.6470302005695252}. Best is trial 2 with value: 0.9740943114506502.\n",
      "[I 2025-05-19 11:11:04,910] Trial 11 finished with value: 0.9749725679263556 and parameters: {'learning_rate': 0.10290180561313515, 'n_estimators': 841, 'max_depth': 11, 'num_leaves': 243, 'min_child_samples': 40, 'subsample': 0.501755688656596, 'colsample_bytree': 0.5026694213384107}. Best is trial 11 with value: 0.9749725679263556.\n",
      "[I 2025-05-19 11:11:09,584] Trial 12 finished with value: 0.9758509381907869 and parameters: {'learning_rate': 0.07179848188676925, 'n_estimators': 862, 'max_depth': 11, 'num_leaves': 203, 'min_child_samples': 41, 'subsample': 0.5008267999634411, 'colsample_bytree': 0.5262556693443692}. Best is trial 12 with value: 0.9758509381907869.\n",
      "[I 2025-05-19 11:11:15,420] Trial 13 finished with value: 0.972557537924114 and parameters: {'learning_rate': 0.05916341343496533, 'n_estimators': 996, 'max_depth': 11, 'num_leaves': 205, 'min_child_samples': 43, 'subsample': 0.5143173306118806, 'colsample_bytree': 0.9930699237910344}. Best is trial 12 with value: 0.9758509381907869.\n",
      "[I 2025-05-19 11:11:20,949] Trial 14 finished with value: 0.9701410433181833 and parameters: {'learning_rate': 0.014148436949688455, 'n_estimators': 811, 'max_depth': 10, 'num_leaves': 198, 'min_child_samples': 33, 'subsample': 0.7646776054359449, 'colsample_bytree': 0.5035720773960053}. Best is trial 12 with value: 0.9758509381907869.\n",
      "[I 2025-05-19 11:11:23,584] Trial 15 finished with value: 0.9723362420962077 and parameters: {'learning_rate': 0.08602547210009523, 'n_estimators': 767, 'max_depth': 6, 'num_leaves': 121, 'min_child_samples': 50, 'subsample': 0.9751202275700682, 'colsample_bytree': 0.6709105227863217}. Best is trial 12 with value: 0.9758509381907869.\n",
      "[I 2025-05-19 11:11:31,981] Trial 16 finished with value: 0.9754095337944092 and parameters: {'learning_rate': 0.02478835918528732, 'n_estimators': 876, 'max_depth': 11, 'num_leaves': 174, 'min_child_samples': 30, 'subsample': 0.7101039563129607, 'colsample_bytree': 0.5532760843381035}. Best is trial 12 with value: 0.9758509381907869.\n",
      "[I 2025-05-19 11:11:37,497] Trial 17 finished with value: 0.9712355664923011 and parameters: {'learning_rate': 0.018715970693963368, 'n_estimators': 668, 'max_depth': 9, 'num_leaves': 86, 'min_child_samples': 24, 'subsample': 0.707334304666624, 'colsample_bytree': 0.5674151177558775}. Best is trial 12 with value: 0.9758509381907869.\n",
      "[I 2025-05-19 11:11:40,388] Trial 18 finished with value: 0.9194912570595815 and parameters: {'learning_rate': 0.004122581753631392, 'n_estimators': 902, 'max_depth': 5, 'num_leaves': 165, 'min_child_samples': 24, 'subsample': 0.8133591380656828, 'colsample_bytree': 0.7102267585023813}. Best is trial 12 with value: 0.9758509381907869.\n",
      "[I 2025-05-19 11:11:44,805] Trial 19 finished with value: 0.9725548063628295 and parameters: {'learning_rate': 0.032536156398847514, 'n_estimators': 686, 'max_depth': 11, 'num_leaves': 180, 'min_child_samples': 55, 'subsample': 0.9625590552721193, 'colsample_bytree': 0.6221226817881451}. Best is trial 12 with value: 0.9758509381907869.\n",
      "[I 2025-05-19 11:11:50,138] Trial 20 finished with value: 0.969700497500256 and parameters: {'learning_rate': 0.014504525470520157, 'n_estimators': 870, 'max_depth': 10, 'num_leaves': 135, 'min_child_samples': 49, 'subsample': 0.7187624614360206, 'colsample_bytree': 0.5595540905564818}. Best is trial 12 with value: 0.9758509381907869.\n",
      "[I 2025-05-19 11:11:56,636] Trial 21 finished with value: 0.9758493217076036 and parameters: {'learning_rate': 0.049721531707183166, 'n_estimators': 853, 'max_depth': 12, 'num_leaves': 222, 'min_child_samples': 35, 'subsample': 0.5383305611408256, 'colsample_bytree': 0.5288148482089133}. Best is trial 12 with value: 0.9758509381907869.\n",
      "[I 2025-05-19 11:12:02,616] Trial 22 finished with value: 0.9780460820017479 and parameters: {'learning_rate': 0.05479309042905244, 'n_estimators': 686, 'max_depth': 12, 'num_leaves': 218, 'min_child_samples': 31, 'subsample': 0.6305121780847327, 'colsample_bytree': 0.5358983724249645}. Best is trial 22 with value: 0.9780460820017479.\n",
      "[I 2025-05-19 11:12:10,677] Trial 23 finished with value: 0.9760693831234855 and parameters: {'learning_rate': 0.05077432883152917, 'n_estimators': 666, 'max_depth': 13, 'num_leaves': 223, 'min_child_samples': 15, 'subsample': 0.5510175478327339, 'colsample_bytree': 0.5375955790956178}. Best is trial 22 with value: 0.9780460820017479.\n",
      "[I 2025-05-19 11:12:17,916] Trial 24 finished with value: 0.9760701417239824 and parameters: {'learning_rate': 0.058012057516169876, 'n_estimators': 667, 'max_depth': 13, 'num_leaves': 227, 'min_child_samples': 16, 'subsample': 0.6144834403026301, 'colsample_bytree': 0.6511022150999082}. Best is trial 22 with value: 0.9780460820017479.\n",
      "[I 2025-05-19 11:12:26,649] Trial 25 finished with value: 0.9762891800353074 and parameters: {'learning_rate': 0.04563274348532401, 'n_estimators': 693, 'max_depth': 13, 'num_leaves': 227, 'min_child_samples': 16, 'subsample': 0.6244661966774825, 'colsample_bytree': 0.653765267072787}. Best is trial 22 with value: 0.9780460820017479.\n",
      "[I 2025-05-19 11:12:29,150] Trial 26 finished with value: 0.9740952503751122 and parameters: {'learning_rate': 0.29738589550763206, 'n_estimators': 728, 'max_depth': 14, 'num_leaves': 226, 'min_child_samples': 15, 'subsample': 0.6390413762407643, 'colsample_bytree': 0.6767986057785148}. Best is trial 22 with value: 0.9780460820017479.\n",
      "[I 2025-05-19 11:12:33,044] Trial 27 finished with value: 0.9745334025130395 and parameters: {'learning_rate': 0.12061924803602399, 'n_estimators': 615, 'max_depth': 14, 'num_leaves': 187, 'min_child_samples': 20, 'subsample': 0.613117458638832, 'colsample_bytree': 0.7710793463348585}. Best is trial 22 with value: 0.9780460820017479.\n",
      "[I 2025-05-19 11:12:40,949] Trial 28 finished with value: 0.9611260478527102 and parameters: {'learning_rate': 0.010051522593683892, 'n_estimators': 377, 'max_depth': 12, 'num_leaves': 144, 'min_child_samples': 5, 'subsample': 0.6293769849048442, 'colsample_bytree': 0.7297273277726377}. Best is trial 22 with value: 0.9780460820017479.\n",
      "[I 2025-05-19 11:12:43,771] Trial 29 finished with value: 0.964423062391257 and parameters: {'learning_rate': 0.022647809910882978, 'n_estimators': 240, 'max_depth': 13, 'num_leaves': 233, 'min_child_samples': 29, 'subsample': 0.6792379142198123, 'colsample_bytree': 0.6288702601300292}. Best is trial 22 with value: 0.9780460820017479.\n",
      "[I 2025-05-19 11:12:45,747] Trial 30 finished with value: 0.9745334760884603 and parameters: {'learning_rate': 0.19981217909137652, 'n_estimators': 450, 'max_depth': 12, 'num_leaves': 67, 'min_child_samples': 16, 'subsample': 0.5724739750759272, 'colsample_bytree': 0.6601115242584955}. Best is trial 22 with value: 0.9780460820017479.\n",
      "[I 2025-05-19 11:12:54,752] Trial 31 finished with value: 0.9769482154878055 and parameters: {'learning_rate': 0.04635702415499964, 'n_estimators': 612, 'max_depth': 13, 'num_leaves': 253, 'min_child_samples': 14, 'subsample': 0.560398239859881, 'colsample_bytree': 0.5393761179980365}. Best is trial 22 with value: 0.9780460820017479.\n",
      "[I 2025-05-19 11:13:04,519] Trial 32 finished with value: 0.9751919999517022 and parameters: {'learning_rate': 0.0427794681046343, 'n_estimators': 616, 'max_depth': 14, 'num_leaves': 253, 'min_child_samples': 13, 'subsample': 0.5859377914749065, 'colsample_bytree': 0.59342350741857}. Best is trial 22 with value: 0.9780460820017479.\n",
      "[I 2025-05-19 11:13:12,360] Trial 33 finished with value: 0.974534915443295 and parameters: {'learning_rate': 0.06766903777315215, 'n_estimators': 729, 'max_depth': 13, 'num_leaves': 236, 'min_child_samples': 6, 'subsample': 0.5652102637371246, 'colsample_bytree': 0.5941832623694386}. Best is trial 22 with value: 0.9780460820017479.\n",
      "[I 2025-05-19 11:13:15,928] Trial 34 finished with value: 0.974973643772325 and parameters: {'learning_rate': 0.14180488221336043, 'n_estimators': 530, 'max_depth': 14, 'num_leaves': 254, 'min_child_samples': 19, 'subsample': 0.5981597528824837, 'colsample_bytree': 0.6249224966789005}. Best is trial 22 with value: 0.9780460820017479.\n",
      "[I 2025-05-19 11:13:25,531] Trial 35 finished with value: 0.97650845739163 and parameters: {'learning_rate': 0.02776363454273757, 'n_estimators': 781, 'max_depth': 15, 'num_leaves': 191, 'min_child_samples': 26, 'subsample': 0.5339956936895605, 'colsample_bytree': 0.5849986428722647}. Best is trial 22 with value: 0.9780460820017479.\n",
      "[I 2025-05-19 11:13:35,462] Trial 36 finished with value: 0.9765085734290725 and parameters: {'learning_rate': 0.026944653757676188, 'n_estimators': 796, 'max_depth': 15, 'num_leaves': 213, 'min_child_samples': 28, 'subsample': 0.5357022290882419, 'colsample_bytree': 0.5839758140541096}. Best is trial 22 with value: 0.9780460820017479.\n",
      "[I 2025-05-19 11:13:45,230] Trial 37 finished with value: 0.977166527563585 and parameters: {'learning_rate': 0.026868475219656004, 'n_estimators': 800, 'max_depth': 15, 'num_leaves': 195, 'min_child_samples': 27, 'subsample': 0.5521899236023678, 'colsample_bytree': 0.5740758991465355}. Best is trial 22 with value: 0.9780460820017479.\n",
      "[I 2025-05-19 11:13:49,662] Trial 38 finished with value: 0.9655247472509043 and parameters: {'learning_rate': 0.011980525043655713, 'n_estimators': 574, 'max_depth': 15, 'num_leaves': 208, 'min_child_samples': 46, 'subsample': 0.5753482812593564, 'colsample_bytree': 0.5382003595592986}. Best is trial 22 with value: 0.9780460820017479.\n",
      "[I 2025-05-19 11:13:55,212] Trial 39 finished with value: 0.9714571835570295 and parameters: {'learning_rate': 0.019465588763920405, 'n_estimators': 810, 'max_depth': 15, 'num_leaves': 211, 'min_child_samples': 56, 'subsample': 0.5338170119481096, 'colsample_bytree': 0.5775267555114398}. Best is trial 22 with value: 0.9780460820017479.\n",
      "[I 2025-05-19 11:14:07,577] Trial 40 finished with value: 0.9653035344053382 and parameters: {'learning_rate': 0.005467813823157407, 'n_estimators': 932, 'max_depth': 15, 'num_leaves': 150, 'min_child_samples': 30, 'subsample': 0.6626666941487392, 'colsample_bytree': 0.6087440691595073}. Best is trial 22 with value: 0.9780460820017479.\n",
      "[I 2025-05-19 11:14:17,320] Trial 41 finished with value: 0.9773866492263483 and parameters: {'learning_rate': 0.027911111893776257, 'n_estimators': 766, 'max_depth': 15, 'num_leaves': 192, 'min_child_samples': 27, 'subsample': 0.5324811442619409, 'colsample_bytree': 0.5794262390829126}. Best is trial 22 with value: 0.9780460820017479.\n",
      "[I 2025-05-19 11:14:30,452] Trial 42 finished with value: 0.9754133728610176 and parameters: {'learning_rate': 0.031926607744878106, 'n_estimators': 731, 'max_depth': 14, 'num_leaves': 190, 'min_child_samples': 10, 'subsample': 0.5581321235572322, 'colsample_bytree': 0.5459974265880537}. Best is trial 22 with value: 0.9780460820017479.\n",
      "[I 2025-05-19 11:14:38,039] Trial 43 finished with value: 0.9778260354010524 and parameters: {'learning_rate': 0.03715543845587367, 'n_estimators': 789, 'max_depth': 15, 'num_leaves': 243, 'min_child_samples': 34, 'subsample': 0.5271287184307726, 'colsample_bytree': 0.518758487021223}. Best is trial 22 with value: 0.9780460820017479.\n",
      "[I 2025-05-19 11:14:41,537] Trial 44 finished with value: 0.9773876730335676 and parameters: {'learning_rate': 0.10224153919045537, 'n_estimators': 630, 'max_depth': 14, 'num_leaves': 239, 'min_child_samples': 35, 'subsample': 0.5948149352284655, 'colsample_bytree': 0.5191270146789326}. Best is trial 22 with value: 0.9780460820017479.\n",
      "[I 2025-05-19 11:14:45,394] Trial 45 finished with value: 0.9765088509973199 and parameters: {'learning_rate': 0.09418302740386009, 'n_estimators': 737, 'max_depth': 14, 'num_leaves': 239, 'min_child_samples': 35, 'subsample': 0.5916695886734076, 'colsample_bytree': 0.5224896346718203}. Best is trial 22 with value: 0.9780460820017479.\n",
      "[I 2025-05-19 11:14:48,663] Trial 46 finished with value: 0.9751940643571804 and parameters: {'learning_rate': 0.119666230838064, 'n_estimators': 822, 'max_depth': 15, 'num_leaves': 176, 'min_child_samples': 43, 'subsample': 0.5954536373903752, 'colsample_bytree': 0.5174604342430571}. Best is trial 22 with value: 0.9780460820017479.\n",
      "[I 2025-05-19 11:14:49,542] Trial 47 finished with value: 0.9553953106069507 and parameters: {'learning_rate': 0.038832362468751845, 'n_estimators': 503, 'max_depth': 14, 'num_leaves': 8, 'min_child_samples': 37, 'subsample': 0.5106526296052751, 'colsample_bytree': 0.5015795573410432}. Best is trial 22 with value: 0.9780460820017479.\n",
      "[I 2025-05-19 11:14:49,997] Trial 48 finished with value: 0.9598137851716719 and parameters: {'learning_rate': 0.17828637800371894, 'n_estimators': 55, 'max_depth': 12, 'num_leaves': 241, 'min_child_samples': 83, 'subsample': 0.5192165118090183, 'colsample_bytree': 0.8927112458016417}. Best is trial 22 with value: 0.9780460820017479.\n",
      "[I 2025-05-19 11:14:55,217] Trial 49 finished with value: 0.9769497766206552 and parameters: {'learning_rate': 0.07780744663573522, 'n_estimators': 977, 'max_depth': 15, 'num_leaves': 198, 'min_child_samples': 33, 'subsample': 0.647634312492656, 'colsample_bytree': 0.5706891648274022}. Best is trial 22 with value: 0.9780460820017479.\n"
     ]
    },
    {
     "name": "stdout",
     "output_type": "stream",
     "text": [
      "Best trial:\n",
      "FrozenTrial(number=22, state=1, values=[0.9780460820017479], datetime_start=datetime.datetime(2025, 5, 19, 11, 11, 56, 638631), datetime_complete=datetime.datetime(2025, 5, 19, 11, 12, 2, 616434), params={'learning_rate': 0.05479309042905244, 'n_estimators': 686, 'max_depth': 12, 'num_leaves': 218, 'min_child_samples': 31, 'subsample': 0.6305121780847327, 'colsample_bytree': 0.5358983724249645}, user_attrs={}, system_attrs={}, intermediate_values={}, distributions={'learning_rate': FloatDistribution(high=0.3, log=True, low=0.001, step=None), 'n_estimators': IntDistribution(high=1000, log=False, low=50, step=1), 'max_depth': IntDistribution(high=15, log=False, low=3, step=1), 'num_leaves': IntDistribution(high=255, log=False, low=7, step=1), 'min_child_samples': IntDistribution(high=100, log=False, low=5, step=1), 'subsample': FloatDistribution(high=1.0, log=False, low=0.5, step=None), 'colsample_bytree': FloatDistribution(high=1.0, log=False, low=0.5, step=None)}, trial_id=22, value=None)\n",
      "Best parameters: {'learning_rate': 0.05479309042905244, 'n_estimators': 686, 'max_depth': 12, 'num_leaves': 218, 'min_child_samples': 31, 'subsample': 0.6305121780847327, 'colsample_bytree': 0.5358983724249645}\n"
     ]
    }
   ],
   "source": [
    "def objective(trial):\n",
    "    params = {\n",
    "        'learning_rate': trial.suggest_float('learning_rate', 1e-3, 0.3, log=True),\n",
    "        'n_estimators': trial.suggest_int('n_estimators', 50, 1000),\n",
    "        'max_depth': trial.suggest_int('max_depth', 3, 15),\n",
    "        'num_leaves': trial.suggest_int('num_leaves', 7, 255),\n",
    "        'min_child_samples': trial.suggest_int('min_child_samples', 5, 100),\n",
    "        'subsample': trial.suggest_float('subsample', 0.5, 1.0),\n",
    "        'colsample_bytree': trial.suggest_float('colsample_bytree', 0.5, 1.0),\n",
    "        'random_state': 42,\n",
    "        'verbosity': -1\n",
    "    }\n",
    "\n",
    "    model = lgb.LGBMClassifier(**params)\n",
    "    \n",
    "    score = cross_val_score(model, X_train, y_train, scoring=f1_scorer, cv=cv, n_jobs=-1).mean()\n",
    "    return score\n",
    "\n",
    "study = optuna.create_study(direction='maximize')\n",
    "study.optimize(objective, n_trials=50)\n",
    "\n",
    "print(\"Best trial:\")\n",
    "print(study.best_trial)\n",
    "print(\"Best parameters:\", study.best_params)"
   ]
  },
  {
   "cell_type": "markdown",
   "id": "2f24e3a3",
   "metadata": {},
   "source": [
    "After optimization, the macro F1 score slightly increased."
   ]
  },
  {
   "cell_type": "markdown",
   "id": "4a9ffc4b",
   "metadata": {},
   "source": [
    "## 3. Retrain and test"
   ]
  },
  {
   "cell_type": "code",
   "execution_count": 7,
   "id": "e6139b6d",
   "metadata": {},
   "outputs": [
    {
     "name": "stdout",
     "output_type": "stream",
     "text": [
      "Classification Report:\n",
      "\n",
      "              precision    recall  f1-score   support\n",
      "\n",
      "           0     0.9776    0.9930    0.9853       572\n",
      "           1     0.9535    0.8632    0.9061        95\n",
      "\n",
      "    accuracy                         0.9745       667\n",
      "   macro avg     0.9656    0.9281    0.9457       667\n",
      "weighted avg     0.9742    0.9745    0.9740       667\n",
      "\n"
     ]
    },
    {
     "data": {
      "text/plain": [
       "<Axes: >"
      ]
     },
     "execution_count": 7,
     "metadata": {},
     "output_type": "execute_result"
    },
    {
     "data": {
      "image/png": "[encoded data removed]",
      "text/plain": [
       "<Figure size 640x480 with 2 Axes>"
      ]
     },
     "metadata": {},
     "output_type": "display_data"
    }
   ],
   "source": [
    "best_model = lgb.LGBMClassifier(**study.best_params)\n",
    "best_model.fit(X_train, y_train)\n",
    "\n",
    "y_pred = best_model.predict(X_test)\n",
    "\n",
    "print(\"Classification Report:\\n\")\n",
    "print(classification_report(y_test, y_pred, digits=4))\n",
    "sns.heatmap(confusion_matrix(y_test, y_pred), annot=True, fmt='d', cmap='Blues')"
   ]
  },
  {
   "cell_type": "markdown",
   "id": "c4428c2a",
   "metadata": {},
   "source": [
    "The recall score for class 1 on the test set is relatively high at 0.86, indicating that 86% of churned customers were correctly predicted."
   ]
  },
  {
   "cell_type": "markdown",
   "id": "121a9e9a",
   "metadata": {},
   "source": [
    "## 4. Feature importance "
   ]
  },
  {
   "cell_type": "code",
   "execution_count": 8,
   "id": "66026da6",
   "metadata": {},
   "outputs": [
    {
     "name": "stdout",
     "output_type": "stream",
     "text": [
      "                   Feature  Importance\n",
      "30              State_freq        3348\n",
      "29            Total charge        2473\n",
      "28        intl_calls_ratio        2370\n",
      "21  avg_intl_call_duration        2352\n",
      "22           total_minutes        2241\n",
      "19   avg_eve_call_duration        2177\n",
      "27             total_calls        2044\n",
      "5        Total day minutes        2025\n",
      "6          Total day calls        1892\n",
      "14      Total intl minutes        1877\n"
     ]
    }
   ],
   "source": [
    "importances = best_model.feature_importances_\n",
    "feature_names = X_train.columns\n",
    "\n",
    "importance_df = pd.DataFrame({\n",
    "    'Feature': feature_names,\n",
    "    'Importance': importances\n",
    "}).sort_values(by='Importance', ascending=False)\n",
    "print(importance_df.head(10))"
   ]
  },
  {
   "cell_type": "code",
   "execution_count": 9,
   "id": "dc8dcb1f",
   "metadata": {},
   "outputs": [
    {
     "data": {
      "image/png": "[encoded data removed]",
      "text/plain": [
       "<Figure size 1000x600 with 1 Axes>"
      ]
     },
     "metadata": {},
     "output_type": "display_data"
    }
   ],
   "source": [
    "plt.figure(figsize=(10, 6))\n",
    "plt.barh(importance_df['Feature'][:5][::-1], importance_df['Importance'][:5][::-1])\n",
    "plt.xlabel(\"Importance\")\n",
    "plt.title(\"Top 5 Feature Importances\")\n",
    "plt.tight_layout()\n",
    "plt.show()"
   ]
  },
  {
   "cell_type": "markdown",
   "id": "7195ac74",
   "metadata": {},
   "source": [
    "The five features with the greatest impact are 'State', 'Total charge', 'intl_calls_ratio', 'avg_intl_call_duration' and 'total_minutes'"
   ]
  }
 ],
 "metadata": {
  "kernelspec": {
   "display_name": "Python 3",
   "language": "python",
   "name": "python3"
  },
  "language_info": {
   "codemirror_mode": {
    "name": "ipython",
    "version": 3
   },
   "file_extension": ".py",
   "mimetype": "text/x-python",
   "name": "python",
   "nbconvert_exporter": "python",
   "pygments_lexer": "ipython3",
   "version": "3.11.1"
  }
 },
 "nbformat": 4,
 "nbformat_minor": 5
}
