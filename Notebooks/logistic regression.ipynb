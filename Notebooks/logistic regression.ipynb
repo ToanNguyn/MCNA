{
 "cells": [
  {
   "cell_type": "code",
   "execution_count": 1,
   "id": "14bc0e1b",
   "metadata": {},
   "outputs": [],
   "source": [
    "import pandas as pd\n",
    "import sys\n",
    "import os\n",
    "from imblearn.over_sampling import SMOTE\n",
    "import matplotlib.pyplot as plt\n",
    "import seaborn as sns\n",
    "import warnings\n",
    "from category_encoders import TargetEncoder\n",
    "import lightgbm as lgb\n",
    "from sklearn.model_selection import cross_val_score, StratifiedKFold\n",
    "from sklearn.metrics import f1_score, recall_score, precision_score, confusion_matrix, make_scorer\n",
    "import optuna\n",
    "from sklearn.ensemble import RandomForestClassifier\n",
    "from sklearn.linear_model import LogisticRegression\n",
    "from sklearn.preprocessing import StandardScaler\n",
    "from sklearn.metrics import classification_report\n",
    "\n",
    "warnings.filterwarnings('ignore')\n",
    "sys.path.append(os.path.abspath(\"../Sources\"))\n",
    "pd.set_option('display.max_columns', None) "
   ]
  },
  {
   "cell_type": "code",
   "execution_count": 2,
   "id": "6b86461b",
   "metadata": {},
   "outputs": [],
   "source": [
    "train = pd.read_csv('..\\Datasets\\Copy of churn-bigml-80.csv')\n",
    "test = pd.read_csv('..\\Datasets\\Copy of churn-bigml-20.csv')"
   ]
  },
  {
   "cell_type": "code",
   "execution_count": 3,
   "id": "ee7bc9f8",
   "metadata": {},
   "outputs": [],
   "source": [
    "from preprocessing import preprocess_pipeline"
   ]
  },
  {
   "cell_type": "code",
   "execution_count": 4,
   "id": "65202260",
   "metadata": {},
   "outputs": [],
   "source": [
    "X_train, y_train, X_test, y_test, feature_names = preprocess_pipeline(train, test, model='logreg')"
   ]
  },
  {
   "cell_type": "code",
   "execution_count": 5,
   "id": "262f4457",
   "metadata": {},
   "outputs": [
    {
     "name": "stdout",
     "output_type": "stream",
     "text": [
      "F1 scores on each fold: [0.77083085 0.76271922 0.74861698 0.76607825 0.78700383]\n",
      "Mean F1 score: 0.7670498270330265\n"
     ]
    }
   ],
   "source": [
    "f1_scorer = make_scorer(f1_score, average='macro')\n",
    "cv = StratifiedKFold(n_splits=5, shuffle=True, random_state=42)\n",
    "\n",
    "model = LogisticRegression(max_iter=1000, random_state=42)\n",
    "scores = cross_val_score(model, X_train, y_train, cv=cv, scoring=f1_scorer)\n",
    "\n",
    "print(\"F1 scores on each fold:\", scores)\n",
    "print(\"Mean F1 score:\", scores.mean())"
   ]
  },
  {
   "cell_type": "code",
   "execution_count": 6,
   "id": "1954b280",
   "metadata": {},
   "outputs": [
    {
     "name": "stderr",
     "output_type": "stream",
     "text": [
      "[I 2025-05-18 23:37:03,671] A new study created in memory with name: no-name-bf1c148e-9f44-44d6-9a65-0f02d2819661\n",
      "[I 2025-05-18 23:37:06,301] Trial 0 finished with value: 0.7197333844452806 and parameters: {'C': 0.0011964844340666624, 'penalty': 'l2', 'solver': 'liblinear'}. Best is trial 0 with value: 0.7197333844452806.\n",
      "[I 2025-05-18 23:37:10,093] Trial 1 finished with value: 0.766184171055054 and parameters: {'C': 4.887962625629306, 'penalty': 'l1', 'solver': 'liblinear'}. Best is trial 1 with value: 0.766184171055054.\n",
      "[I 2025-05-18 23:37:11,912] Trial 2 finished with value: 0.3333332619298296 and parameters: {'C': 0.0004849681133755488, 'penalty': 'l1', 'solver': 'liblinear'}. Best is trial 1 with value: 0.766184171055054.\n",
      "[I 2025-05-18 23:37:13,855] Trial 3 finished with value: 0.3333332619298296 and parameters: {'C': 0.00012756112742868535, 'penalty': 'l1', 'solver': 'liblinear'}. Best is trial 1 with value: 0.766184171055054.\n",
      "[I 2025-05-18 23:37:14,020] Trial 4 finished with value: 0.33333326192982965 and parameters: {'C': 0.000304083192571111, 'penalty': 'l1', 'solver': 'saga'}. Best is trial 1 with value: 0.766184171055054.\n",
      "[I 2025-05-18 23:37:14,173] Trial 5 finished with value: 0.6502242519636057 and parameters: {'C': 0.0001584342400907795, 'penalty': 'l2', 'solver': 'liblinear'}. Best is trial 1 with value: 0.766184171055054.\n",
      "[I 2025-05-18 23:37:14,863] Trial 6 finished with value: 0.7655301594391878 and parameters: {'C': 0.6202664696797245, 'penalty': 'l1', 'solver': 'liblinear'}. Best is trial 1 with value: 0.766184171055054.\n",
      "[I 2025-05-18 23:37:15,026] Trial 7 finished with value: 0.73433604808944 and parameters: {'C': 0.003618781301163361, 'penalty': 'l1', 'solver': 'liblinear'}. Best is trial 1 with value: 0.766184171055054.\n",
      "[I 2025-05-18 23:37:15,190] Trial 8 finished with value: 0.3333332619298296 and parameters: {'C': 0.00029241425584452954, 'penalty': 'l1', 'solver': 'liblinear'}. Best is trial 1 with value: 0.766184171055054.\n",
      "[I 2025-05-18 23:37:15,397] Trial 9 finished with value: 0.7060144231588588 and parameters: {'C': 0.0005631736303701438, 'penalty': 'l2', 'solver': 'saga'}. Best is trial 1 with value: 0.766184171055054.\n",
      "[I 2025-05-18 23:37:16,469] Trial 10 finished with value: 0.766179961646702 and parameters: {'C': 9.048678278567163, 'penalty': 'l2', 'solver': 'saga'}. Best is trial 1 with value: 0.766184171055054.\n",
      "[I 2025-05-18 23:37:17,565] Trial 11 finished with value: 0.766179961646702 and parameters: {'C': 9.258714331904118, 'penalty': 'l2', 'solver': 'saga'}. Best is trial 1 with value: 0.766184171055054.\n",
      "[I 2025-05-18 23:37:18,511] Trial 12 finished with value: 0.766179961646702 and parameters: {'C': 8.233066328794187, 'penalty': 'l2', 'solver': 'saga'}. Best is trial 1 with value: 0.766184171055054.\n",
      "[I 2025-05-18 23:37:18,960] Trial 13 finished with value: 0.7683748158611816 and parameters: {'C': 0.42682918244072615, 'penalty': 'l2', 'solver': 'saga'}. Best is trial 13 with value: 0.7683748158611816.\n",
      "[I 2025-05-18 23:37:21,822] Trial 14 finished with value: 0.7655318422812746 and parameters: {'C': 0.3012725914036944, 'penalty': 'l1', 'solver': 'saga'}. Best is trial 13 with value: 0.7683748158611816.\n",
      "[I 2025-05-18 23:37:22,303] Trial 15 finished with value: 0.7686032864759663 and parameters: {'C': 0.4666952604335618, 'penalty': 'l2', 'solver': 'saga'}. Best is trial 15 with value: 0.7686032864759663.\n",
      "[I 2025-05-18 23:37:22,608] Trial 16 finished with value: 0.7648488510094794 and parameters: {'C': 0.07563474566119936, 'penalty': 'l2', 'solver': 'saga'}. Best is trial 15 with value: 0.7686032864759663.\n",
      "[I 2025-05-18 23:37:22,831] Trial 17 finished with value: 0.7509262403269389 and parameters: {'C': 0.017419425040190905, 'penalty': 'l2', 'solver': 'saga'}. Best is trial 15 with value: 0.7686032864759663.\n",
      "[I 2025-05-18 23:37:23,313] Trial 18 finished with value: 0.7686000864010359 and parameters: {'C': 0.4539054328617294, 'penalty': 'l2', 'solver': 'saga'}. Best is trial 15 with value: 0.7686032864759663.\n",
      "[I 2025-05-18 23:37:23,990] Trial 19 finished with value: 0.7659483837104346 and parameters: {'C': 1.6799606059017094, 'penalty': 'l2', 'solver': 'saga'}. Best is trial 15 with value: 0.7686032864759663.\n",
      "[I 2025-05-18 23:37:24,309] Trial 20 finished with value: 0.7652891503327953 and parameters: {'C': 0.07303914060394101, 'penalty': 'l2', 'solver': 'saga'}. Best is trial 15 with value: 0.7686032864759663.\n",
      "[I 2025-05-18 23:37:24,821] Trial 21 finished with value: 0.7685992924950787 and parameters: {'C': 0.34231735213764125, 'penalty': 'l2', 'solver': 'saga'}. Best is trial 15 with value: 0.7686032864759663.\n",
      "[I 2025-05-18 23:37:25,480] Trial 22 finished with value: 0.7659483837104346 and parameters: {'C': 1.5289028136537202, 'penalty': 'l2', 'solver': 'saga'}. Best is trial 15 with value: 0.7686032864759663.\n",
      "[I 2025-05-18 23:37:25,842] Trial 23 finished with value: 0.7652834339780531 and parameters: {'C': 0.10678453591780114, 'penalty': 'l2', 'solver': 'saga'}. Best is trial 15 with value: 0.7686032864759663.\n",
      "[I 2025-05-18 23:37:26,062] Trial 24 finished with value: 0.7472124728214957 and parameters: {'C': 0.014649335414397932, 'penalty': 'l2', 'solver': 'saga'}. Best is trial 15 with value: 0.7686032864759663.\n",
      "[I 2025-05-18 23:37:26,465] Trial 25 finished with value: 0.7666248843666222 and parameters: {'C': 0.2008426808103636, 'penalty': 'l2', 'solver': 'saga'}. Best is trial 15 with value: 0.7686032864759663.\n",
      "[I 2025-05-18 23:37:27,086] Trial 26 finished with value: 0.7659469620633995 and parameters: {'C': 1.1883435751134723, 'penalty': 'l2', 'solver': 'saga'}. Best is trial 15 with value: 0.7686032864759663.\n",
      "[I 2025-05-18 23:37:27,355] Trial 27 finished with value: 0.7597767001139448 and parameters: {'C': 0.03864158117715756, 'penalty': 'l2', 'solver': 'saga'}. Best is trial 15 with value: 0.7686032864759663.\n",
      "[I 2025-05-18 23:37:28,032] Trial 28 finished with value: 0.7657384322365892 and parameters: {'C': 2.9768766089386864, 'penalty': 'l2', 'solver': 'saga'}. Best is trial 15 with value: 0.7686032864759663.\n",
      "[I 2025-05-18 23:37:28,586] Trial 29 finished with value: 0.7672734644976655 and parameters: {'C': 0.7194917179069457, 'penalty': 'l2', 'solver': 'saga'}. Best is trial 15 with value: 0.7686032864759663.\n",
      "[I 2025-05-18 23:37:28,787] Trial 30 finished with value: 0.7395773348065963 and parameters: {'C': 0.005087541215859453, 'penalty': 'l2', 'solver': 'saga'}. Best is trial 15 with value: 0.7686032864759663.\n",
      "[I 2025-05-18 23:37:29,205] Trial 31 finished with value: 0.7683821521186555 and parameters: {'C': 0.32632866871190463, 'penalty': 'l2', 'solver': 'saga'}. Best is trial 15 with value: 0.7686032864759663.\n",
      "[I 2025-05-18 23:37:29,555] Trial 32 finished with value: 0.7657295447799676 and parameters: {'C': 0.14717830576846283, 'penalty': 'l2', 'solver': 'saga'}. Best is trial 15 with value: 0.7686032864759663.\n",
      "[I 2025-05-18 23:37:29,978] Trial 33 finished with value: 0.7672856758904342 and parameters: {'C': 0.2482731978834269, 'penalty': 'l2', 'solver': 'saga'}. Best is trial 15 with value: 0.7686032864759663.\n",
      "[I 2025-05-18 23:37:30,572] Trial 34 finished with value: 0.7677128733456522 and parameters: {'C': 0.6934332389878324, 'penalty': 'l2', 'solver': 'saga'}. Best is trial 15 with value: 0.7686032864759663.\n",
      "[I 2025-05-18 23:37:31,232] Trial 35 finished with value: 0.7657384322365892 and parameters: {'C': 3.061924401257851, 'penalty': 'l2', 'solver': 'saga'}. Best is trial 15 with value: 0.7686032864759663.\n",
      "[I 2025-05-18 23:37:31,423] Trial 36 finished with value: 0.7593229228957739 and parameters: {'C': 0.041908787875134995, 'penalty': 'l2', 'solver': 'liblinear'}. Best is trial 15 with value: 0.7686032864759663.\n",
      "[I 2025-05-18 23:37:32,440] Trial 37 finished with value: 0.7653085716924923 and parameters: {'C': 0.37159677205860125, 'penalty': 'l1', 'solver': 'saga'}. Best is trial 15 with value: 0.7686032864759663.\n",
      "[I 2025-05-18 23:37:32,698] Trial 38 finished with value: 0.7666106596673558 and parameters: {'C': 0.95982025341212, 'penalty': 'l2', 'solver': 'liblinear'}. Best is trial 15 with value: 0.7686032864759663.\n",
      "[I 2025-05-18 23:37:35,822] Trial 39 finished with value: 0.7659582235632885 and parameters: {'C': 2.870671814331415, 'penalty': 'l1', 'solver': 'saga'}. Best is trial 15 with value: 0.7686032864759663.\n",
      "[I 2025-05-18 23:37:35,912] Trial 40 finished with value: 0.765066377747319 and parameters: {'C': 0.14960350352185106, 'penalty': 'l2', 'solver': 'liblinear'}. Best is trial 15 with value: 0.7686032864759663.\n",
      "[I 2025-05-18 23:37:36,407] Trial 41 finished with value: 0.7683809806422439 and parameters: {'C': 0.4740917926405711, 'penalty': 'l2', 'solver': 'saga'}. Best is trial 15 with value: 0.7686032864759663.\n",
      "[I 2025-05-18 23:37:36,912] Trial 42 finished with value: 0.7686000864010359 and parameters: {'C': 0.45546865060293573, 'penalty': 'l2', 'solver': 'saga'}. Best is trial 15 with value: 0.7686032864759663.\n",
      "[I 2025-05-18 23:37:37,347] Trial 43 finished with value: 0.7675056412936948 and parameters: {'C': 0.25015520557633925, 'penalty': 'l2', 'solver': 'saga'}. Best is trial 15 with value: 0.7686032864759663.\n",
      "[I 2025-05-18 23:37:38,002] Trial 44 finished with value: 0.7657291410973055 and parameters: {'C': 1.7354568597083382, 'penalty': 'l2', 'solver': 'saga'}. Best is trial 15 with value: 0.7686032864759663.\n",
      "[I 2025-05-18 23:37:38,321] Trial 45 finished with value: 0.7652875437746572 and parameters: {'C': 0.0784624262169192, 'penalty': 'l2', 'solver': 'saga'}. Best is trial 15 with value: 0.7686032864759663.\n",
      "[I 2025-05-18 23:37:38,920] Trial 46 finished with value: 0.7653052322247307 and parameters: {'C': 0.546094099004885, 'penalty': 'l1', 'solver': 'liblinear'}. Best is trial 15 with value: 0.7686032864759663.\n",
      "[I 2025-05-18 23:37:39,311] Trial 47 finished with value: 0.7659522982851666 and parameters: {'C': 0.1500512465494738, 'penalty': 'l2', 'solver': 'saga'}. Best is trial 15 with value: 0.7686032864759663.\n",
      "[I 2025-05-18 23:37:40,055] Trial 48 finished with value: 0.7659604440677132 and parameters: {'C': 4.899082523096304, 'penalty': 'l2', 'solver': 'saga'}. Best is trial 15 with value: 0.7686032864759663.\n",
      "[I 2025-05-18 23:37:41,644] Trial 49 finished with value: 0.7644302744211696 and parameters: {'C': 0.8318820986212889, 'penalty': 'l1', 'solver': 'saga'}. Best is trial 15 with value: 0.7686032864759663.\n"
     ]
    },
    {
     "name": "stdout",
     "output_type": "stream",
     "text": [
      "Best trial:\n",
      "FrozenTrial(number=15, state=1, values=[0.7686032864759663], datetime_start=datetime.datetime(2025, 5, 18, 23, 37, 21, 822408), datetime_complete=datetime.datetime(2025, 5, 18, 23, 37, 22, 303721), params={'C': 0.4666952604335618, 'penalty': 'l2', 'solver': 'saga'}, user_attrs={}, system_attrs={}, intermediate_values={}, distributions={'C': FloatDistribution(high=10.0, log=True, low=0.0001, step=None), 'penalty': CategoricalDistribution(choices=('l1', 'l2')), 'solver': CategoricalDistribution(choices=('liblinear', 'saga'))}, trial_id=15, value=None)\n",
      "Best parameters: {'C': 0.4666952604335618, 'penalty': 'l2', 'solver': 'saga'}\n"
     ]
    }
   ],
   "source": [
    "def objective(trial):\n",
    "    params = {\n",
    "        'C': trial.suggest_float('C', 1e-4, 10.0, log=True),\n",
    "        'penalty': trial.suggest_categorical('penalty', ['l1', 'l2']),\n",
    "        'solver': trial.suggest_categorical('solver', ['liblinear', 'saga']),\n",
    "        'max_iter': 1000,\n",
    "        'random_state': 42\n",
    "    }\n",
    "\n",
    "    if params['penalty'] == 'l1' and params['solver'] not in ['liblinear', 'saga']:\n",
    "        raise optuna.exceptions.TrialPruned()\n",
    "\n",
    "    model = LogisticRegression(**params)\n",
    "    score = cross_val_score(model, X_train, y_train, scoring=f1_scorer, cv=cv, n_jobs=-1).mean()\n",
    "    return score\n",
    "\n",
    "study = optuna.create_study(direction='maximize')\n",
    "study.optimize(objective, n_trials=50)\n",
    "\n",
    "print(\"Best trial:\")\n",
    "print(study.best_trial)\n",
    "print(\"Best parameters:\", study.best_params)"
   ]
  },
  {
   "cell_type": "code",
   "execution_count": 7,
   "id": "0c1a42e1",
   "metadata": {},
   "outputs": [
    {
     "name": "stdout",
     "output_type": "stream",
     "text": [
      "Classification Report:\n",
      "\n",
      "              precision    recall  f1-score   support\n",
      "\n",
      "           0     0.9534    0.7517    0.8407       572\n",
      "           1     0.3426    0.7789    0.4759        95\n",
      "\n",
      "    accuracy                         0.7556       667\n",
      "   macro avg     0.6480    0.7653    0.6583       667\n",
      "weighted avg     0.8664    0.7556    0.7887       667\n",
      "\n"
     ]
    },
    {
     "data": {
      "text/plain": [
       "<Axes: >"
      ]
     },
     "execution_count": 7,
     "metadata": {},
     "output_type": "execute_result"
    },
    {
     "data": {
      "image/png": "[encoded data removed]",
      "text/plain": [
       "<Figure size 640x480 with 2 Axes>"
      ]
     },
     "metadata": {},
     "output_type": "display_data"
    }
   ],
   "source": [
    "best_model = LogisticRegression(**study.best_params)\n",
    "best_model.fit(X_train, y_train)\n",
    "\n",
    "y_pred = best_model.predict(X_test)\n",
    "\n",
    "print(\"Classification Report:\\n\")\n",
    "print(classification_report(y_test, y_pred, digits=4))\n",
    "sns.heatmap(confusion_matrix(y_test, y_pred), annot=True, fmt='d', cmap='Blues')"
   ]
  },
  {
   "cell_type": "code",
   "execution_count": 8,
   "id": "0d35577c",
   "metadata": {},
   "outputs": [
    {
     "name": "stdout",
     "output_type": "stream",
     "text": [
      "                   Feature  Coefficient\n",
      "23               day_ratio    -2.478729\n",
      "25             night_ratio     1.750514\n",
      "5        Total day minutes     1.463890\n",
      "7         Total day charge     1.457722\n",
      "28        intl_calls_ratio    -0.994914\n",
      "29            Total charge     0.986562\n",
      "3          Voice mail plan    -0.951064\n",
      "13      Total night charge    -0.915933\n",
      "11     Total night minutes    -0.885143\n",
      "17  Customer service calls     0.789559\n"
     ]
    }
   ],
   "source": [
    "coef_df = pd.DataFrame({\n",
    "    'Feature': feature_names,\n",
    "    'Coefficient': best_model.coef_[0]\n",
    "}).sort_values(by='Coefficient', key=abs, ascending=False)\n",
    "\n",
    "print(coef_df.head(10))"
   ]
  },
  {
   "cell_type": "code",
   "execution_count": 9,
   "id": "3565ba84",
   "metadata": {},
   "outputs": [
    {
     "data": {
      "image/png": "[encoded data removed]",
      "text/plain": [
       "<Figure size 1000x600 with 1 Axes>"
      ]
     },
     "metadata": {},
     "output_type": "display_data"
    }
   ],
   "source": [
    "plt.figure(figsize=(10, 6))\n",
    "plt.barh(coef_df['Feature'][:5][::-1], coef_df['Coefficient'][:5][::-1])\n",
    "plt.xlabel(\"Coefficient\")\n",
    "plt.title(\"Top 5 Feature Coefficients - Logistic Regression\")\n",
    "plt.tight_layout()\n",
    "plt.show()"
   ]
  }
 ],
 "metadata": {
  "kernelspec": {
   "display_name": "Python 3",
   "language": "python",
   "name": "python3"
  },
  "language_info": {
   "codemirror_mode": {
    "name": "ipython",
    "version": 3
   },
   "file_extension": ".py",
   "mimetype": "text/x-python",
   "name": "python",
   "nbconvert_exporter": "python",
   "pygments_lexer": "ipython3",
   "version": "3.11.1"
  }
 },
 "nbformat": 4,
 "nbformat_minor": 5
}
